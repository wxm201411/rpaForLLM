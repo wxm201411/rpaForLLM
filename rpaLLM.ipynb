{
 "cells": [
  {
   "cell_type": "markdown",
   "id": "6b19b600",
   "metadata": {},
   "source": [
    "导入LLM包"
   ]
  },
  {
   "cell_type": "code",
   "execution_count": 10,
   "id": "47988b94",
   "metadata": {},
   "outputs": [],
   "source": [
    "%run rpaForChatGPT.ipynb"
   ]
  },
  {
   "cell_type": "markdown",
   "id": "010de1fa",
   "metadata": {},
   "source": [
    "LLM初始化和调用"
   ]
  },
  {
   "cell_type": "code",
   "execution_count": 11,
   "id": "c14a3707",
   "metadata": {},
   "outputs": [],
   "source": [
    "llm = rpaForChatGPT()"
   ]
  },
  {
   "cell_type": "markdown",
   "id": "8f2344b6",
   "metadata": {},
   "source": [
    "# 直接调用"
   ]
  },
  {
   "cell_type": "code",
   "execution_count": 12,
   "id": "fdfe7a3d",
   "metadata": {},
   "outputs": [
    {
     "name": "stdout",
     "output_type": "stream",
     "text": [
      "title= rpaLLM - Jupyter Notebook - Google Chrome\n",
      "nowPageTitle rpaLLM - Jupyter Notebook\n",
      "RPA是\"Robotic Process Automation\"（机器人流程自动化）的缩写。它是一种通过使用软件机器人或机器人工作流来自动化重复性、规范性和繁琐的业务流程的技术。RPA可以模拟人类用户的计算机操作，与现有的应用程序或系统进行交互，并执行规定的任务。\n",
      "RPA可以应用于各种不同的业务流程，包括数据输入和处理、数据提取、报告生成、账单处理、客户服务操作、库存管理等。通过使用RPA，组织可以通过自动化常规任务来提高效率、减少错误，并节省时间和人力资源。\n",
      "RPA通常通过录制和回放操作的方式进行配置。用户可以录制他们在特定任务中执行的操作步骤，然后将这些操作步骤转化为一个自动化的机器人工作流程。这些机器人工作流程可以在特定的时间间隔内自动执行，也可以根据需要进行触发。\n",
      "RPA的优势在于它不需要修改现有的应用程序或系统，而是在现有的用户界面层面上操作。这使得RPA成为一种相对低成本和快速实施的自动化解决方案。\n",
      "RPA技术已经被广泛应用于各个行业，包括银行和金融、保险、零售、制造、医疗保健等。随着人工智能和机器学习的进步，RPA还可以结合自然语言处理和智能决策支持系统等技术，提供更高级的自动化能力。\n"
     ]
    }
   ],
   "source": [
    "text = \"介绍下RPA是什么意思\"\n",
    "print(llm(text))"
   ]
  },
  {
   "cell_type": "markdown",
   "id": "8f0d8cbb",
   "metadata": {},
   "source": [
    "# 使用提示模板 promptTemplate"
   ]
  },
  {
   "cell_type": "markdown",
   "id": "4cc0d5b6",
   "metadata": {},
   "source": [
    "先定义提示模板"
   ]
  },
  {
   "cell_type": "code",
   "execution_count": 13,
   "id": "2aec1b2c",
   "metadata": {},
   "outputs": [],
   "source": [
    "from langchain.prompts import PromptTemplate\n",
    "\n",
    "prompt = PromptTemplate(\n",
    "    input_variables = [\"userInput\",\"sysInput\"],\n",
    "    template = \"你作为一个专业的{sysInput}，请用中文回答，我的问题是：{userInput}\"\n",
    ")"
   ]
  },
  {
   "cell_type": "markdown",
   "id": "ffa0181e",
   "metadata": {},
   "source": [
    "测试下提示模板"
   ]
  },
  {
   "cell_type": "code",
   "execution_count": 14,
   "id": "bd575bc0",
   "metadata": {},
   "outputs": [
    {
     "name": "stdout",
     "output_type": "stream",
     "text": [
      "你作为一个专业的RPA专家，请用中文回答，我的问题是：RPA对提升工作效率有帮助吗？\n"
     ]
    }
   ],
   "source": [
    "textFormat = prompt.format(sysInput=\"RPA专家\",userInput=\"RPA对提升工作效率有帮助吗？\")\n",
    "print(textFormat)"
   ]
  },
  {
   "cell_type": "markdown",
   "id": "a5bde815",
   "metadata": {},
   "source": [
    "测试在LLM中使用"
   ]
  },
  {
   "cell_type": "code",
   "execution_count": 15,
   "id": "6e9ba252",
   "metadata": {},
   "outputs": [
    {
     "name": "stdout",
     "output_type": "stream",
     "text": [
      "title= rpaLLM - Jupyter Notebook - Google Chrome\n",
      "nowPageTitle rpaLLM - Jupyter Notebook\n",
      "是的，RPA对提升工作效率具有显著的帮助。RPA可以自动执行重复性、规范性和繁琐的任务，从而解放员工的时间和精力，使他们能够专注于更有价值和战略性的工作。以下是RPA对工作效率的几个方面的帮助：\n",
      "提高生产力：RPA可以在较短的时间内完成大量的任务，无需休息或停顿。它可以快速、准确地处理数据、生成报告、执行系统操作等，从而大大提高生产效率。\n",
      "减少错误：人工操作往往容易出现疏漏和错误，而RPA是基于预定义的规则和流程执行任务的，减少了人为错误的发生。这有助于提高工作的准确性和质量。\n",
      "节省时间：RPA可以在非工作时间或低峰时段运行，减少人工处理任务的时间。它可以快速地完成任务，提高处理速度，并且可以同时处理多个任务，从而节省了宝贵的时间。\n",
      "24/7 运行：RPA可以全天候运行，无需人工干预。这意味着即使在非工作时间，RPA仍然可以继续执行任务，提高了工作效率和响应速度。\n",
      "弹性和可扩展性：RPA可以根据需求进行灵活调整和扩展。当业务需求变化时，可以很容易地修改或添加新的自动化流程，以适应新的业务流程。\n",
      "综上所述，RPA的引入可以显著提升工作效率，解放员工的时间，减少错误，并且可以随着业务需求的变化进行灵活调整和扩展。\n"
     ]
    }
   ],
   "source": [
    "print(llm(textFormat))"
   ]
  },
  {
   "cell_type": "markdown",
   "id": "c60c4261",
   "metadata": {},
   "source": [
    "# 在链 chain中使用 "
   ]
  },
  {
   "cell_type": "markdown",
   "id": "dd3ef25d",
   "metadata": {},
   "source": [
    "下面的内容在新主题下回答，与上面的内容分开"
   ]
  },
  {
   "cell_type": "code",
   "execution_count": 16,
   "id": "f45e8e24",
   "metadata": {},
   "outputs": [],
   "source": [
    "import os\n",
    "os.environ[\"NEW_CHAT_TOPIC\"] = 'yes'"
   ]
  },
  {
   "cell_type": "markdown",
   "id": "490efa5c",
   "metadata": {},
   "source": [
    "在链中执行"
   ]
  },
  {
   "cell_type": "code",
   "execution_count": null,
   "id": "27159299",
   "metadata": {},
   "outputs": [
    {
     "name": "stdout",
     "output_type": "stream",
     "text": [
      "title= rpaLLM - Jupyter Notebook - Google Chrome\n",
      "nowPageTitle rpaLLM - Jupyter Notebook\n"
     ]
    }
   ],
   "source": [
    "from langchain.chains import LLMChain\n",
    "chain = LLMChain(llm=llm, prompt=prompt)\n",
    "chain.run(sysInput=\"医生\",userInput=\"每天喝茶有副作用吗\")"
   ]
  }
 ],
 "metadata": {
  "kernelspec": {
   "display_name": "Python 3 (ipykernel)",
   "language": "python",
   "name": "python3"
  },
  "language_info": {
   "codemirror_mode": {
    "name": "ipython",
    "version": 3
   },
   "file_extension": ".py",
   "mimetype": "text/x-python",
   "name": "python",
   "nbconvert_exporter": "python",
   "pygments_lexer": "ipython3",
   "version": "3.10.11"
  }
 },
 "nbformat": 4,
 "nbformat_minor": 5
}
